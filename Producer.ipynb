{
 "cells": [
  {
   "cell_type": "code",
   "execution_count": 1,
   "id": "82be7305-a87b-4b9e-a36e-3954dcfb50be",
   "metadata": {},
   "outputs": [],
   "source": [
    "from kafka import KafkaProducer\n",
    "import cv2\n",
    "import os\n",
    "from watchdog.observers import Observer\n",
    "from watchdog.events import FileSystemEventHandler"
   ]
  },
  {
   "cell_type": "code",
   "execution_count": 2,
   "id": "b551e141-c121-4025-97ce-8f8e07d85bd4",
   "metadata": {},
   "outputs": [],
   "source": [
    "class VideoFileHandler(FileSystemEventHandler):\n",
    "    def __init__(self, producer, topic):\n",
    "        self.producer = producer\n",
    "        self.topic = topic\n",
    "\n",
    "    def on_created(self, event):\n",
    "        if not event.is_directory and event.src_path.endswith('.mp4'):\n",
    "            print(f\"Processing new video: {event.src_path}\")\n",
    "            self.process_video(event.src_path)\n",
    "            os.remove(event.src_path)  # Delete video after processing\n",
    "            print(f\"Deleted video: {event.src_path}\")\n",
    "\n",
    "    def process_video(self, video_path):\n",
    "        cap = cv2.VideoCapture(video_path)\n",
    "        frame_count = 0\n",
    "        while True:\n",
    "            ret, frame = cap.read()\n",
    "            if not ret:\n",
    "                break  # No more frames or error\n",
    "            if frame_count % 10 == 0:\n",
    "                self.send_frame_to_kafka(frame)\n",
    "            frame_count += 1\n",
    "        cap.release()\n",
    "\n",
    "    def send_frame_to_kafka(self, frame):\n",
    "        ret, buffer = cv2.imencode('.jpg', frame)\n",
    "        self.producer.send(self.topic, buffer.tobytes())\n",
    "        self.producer.flush()\n"
   ]
  },
  {
   "cell_type": "code",
   "execution_count": 3,
   "id": "cc00ae53-1dbd-4d47-8b77-891ed8284a68",
   "metadata": {},
   "outputs": [
    {
     "name": "stdout",
     "output_type": "stream",
     "text": [
      "Producer running. Message being sent to Kafka Consumer. Press Ctrl+C to stop.\n",
      "Processing new video: /home/jovyan/videos/output181.mp4\n",
      "Deleted video: /home/jovyan/videos/output181.mp4\n"
     ]
    },
    {
     "name": "stderr",
     "output_type": "stream",
     "text": [
      "[mov,mp4,m4a,3gp,3g2,mj2 @ 0x7f5a7800a9c0] moov atom not found\n"
     ]
    },
    {
     "name": "stdout",
     "output_type": "stream",
     "text": [
      "Processing new video: /home/jovyan/videos/output182.mp4\n",
      "Deleted video: /home/jovyan/videos/output182.mp4\n"
     ]
    },
    {
     "name": "stderr",
     "output_type": "stream",
     "text": [
      "[mov,mp4,m4a,3gp,3g2,mj2 @ 0x7f5a7800ed40] moov atom not found\n"
     ]
    },
    {
     "name": "stdout",
     "output_type": "stream",
     "text": [
      "Processing new video: /home/jovyan/videos/output183.mp4\n",
      "Deleted video: /home/jovyan/videos/output183.mp4\n"
     ]
    },
    {
     "name": "stderr",
     "output_type": "stream",
     "text": [
      "[mov,mp4,m4a,3gp,3g2,mj2 @ 0x7f5a7800fe40] moov atom not found\n"
     ]
    },
    {
     "name": "stdout",
     "output_type": "stream",
     "text": [
      "Processing new video: /home/jovyan/videos/output184.mp4\n",
      "Deleted video: /home/jovyan/videos/output184.mp4\n"
     ]
    },
    {
     "name": "stderr",
     "output_type": "stream",
     "text": [
      "[mov,mp4,m4a,3gp,3g2,mj2 @ 0x7f5a78010f00] moov atom not found\n"
     ]
    },
    {
     "name": "stdout",
     "output_type": "stream",
     "text": [
      "Processing new video: /home/jovyan/videos/output185.mp4\n",
      "Deleted video: /home/jovyan/videos/output185.mp4\n"
     ]
    },
    {
     "name": "stderr",
     "output_type": "stream",
     "text": [
      "[mov,mp4,m4a,3gp,3g2,mj2 @ 0x7f5a780118c0] moov atom not found\n"
     ]
    },
    {
     "name": "stdout",
     "output_type": "stream",
     "text": [
      "Processing new video: /home/jovyan/videos/output186.mp4\n",
      "Deleted video: /home/jovyan/videos/output186.mp4\n"
     ]
    },
    {
     "name": "stderr",
     "output_type": "stream",
     "text": [
      "[mov,mp4,m4a,3gp,3g2,mj2 @ 0x7f5a78012240] moov atom not found\n"
     ]
    },
    {
     "name": "stdout",
     "output_type": "stream",
     "text": [
      "Processing new video: /home/jovyan/videos/output187.mp4\n",
      "Deleted video: /home/jovyan/videos/output187.mp4\n"
     ]
    },
    {
     "name": "stderr",
     "output_type": "stream",
     "text": [
      "[mov,mp4,m4a,3gp,3g2,mj2 @ 0x7f5a78012d80] moov atom not found\n"
     ]
    },
    {
     "name": "stdout",
     "output_type": "stream",
     "text": [
      "Processing new video: /home/jovyan/videos/output188.mp4\n",
      "Deleted video: /home/jovyan/videos/output188.mp4\n"
     ]
    },
    {
     "name": "stderr",
     "output_type": "stream",
     "text": [
      "[mov,mp4,m4a,3gp,3g2,mj2 @ 0x7f5a78013840] moov atom not found\n"
     ]
    },
    {
     "name": "stdout",
     "output_type": "stream",
     "text": [
      "Processing new video: /home/jovyan/videos/output189.mp4\n",
      "Deleted video: /home/jovyan/videos/output189.mp4\n"
     ]
    },
    {
     "name": "stderr",
     "output_type": "stream",
     "text": [
      "[mov,mp4,m4a,3gp,3g2,mj2 @ 0x7f5a78013b00] moov atom not found\n"
     ]
    },
    {
     "name": "stdout",
     "output_type": "stream",
     "text": [
      "Processing new video: /home/jovyan/videos/output190.mp4\n",
      "Deleted video: /home/jovyan/videos/output190.mp4\n"
     ]
    },
    {
     "name": "stderr",
     "output_type": "stream",
     "text": [
      "[mov,mp4,m4a,3gp,3g2,mj2 @ 0x7f5a78014180] moov atom not found\n"
     ]
    },
    {
     "name": "stdout",
     "output_type": "stream",
     "text": [
      "Processing new video: /home/jovyan/videos/output191.mp4\n",
      "Deleted video: /home/jovyan/videos/output191.mp4\n"
     ]
    },
    {
     "name": "stderr",
     "output_type": "stream",
     "text": [
      "[mov,mp4,m4a,3gp,3g2,mj2 @ 0x7f5a78014040] moov atom not found\n"
     ]
    },
    {
     "name": "stdout",
     "output_type": "stream",
     "text": [
      "Processing new video: /home/jovyan/videos/output192.mp4\n",
      "Deleted video: /home/jovyan/videos/output192.mp4\n"
     ]
    },
    {
     "name": "stderr",
     "output_type": "stream",
     "text": [
      "[mov,mp4,m4a,3gp,3g2,mj2 @ 0x7f5a78014a40] moov atom not found\n"
     ]
    },
    {
     "name": "stdout",
     "output_type": "stream",
     "text": [
      "Processing new video: /home/jovyan/videos/output193.mp4\n",
      "Deleted video: /home/jovyan/videos/output193.mp4\n"
     ]
    },
    {
     "name": "stderr",
     "output_type": "stream",
     "text": [
      "[mov,mp4,m4a,3gp,3g2,mj2 @ 0x7f5a78014980] moov atom not found\n"
     ]
    },
    {
     "name": "stdout",
     "output_type": "stream",
     "text": [
      "Processing new video: /home/jovyan/videos/output194.mp4\n",
      "Deleted video: /home/jovyan/videos/output194.mp4\n"
     ]
    },
    {
     "name": "stderr",
     "output_type": "stream",
     "text": [
      "[mov,mp4,m4a,3gp,3g2,mj2 @ 0x7f5a780147c0] moov atom not found\n"
     ]
    },
    {
     "name": "stdout",
     "output_type": "stream",
     "text": [
      "Processing new video: /home/jovyan/videos/output195.mp4\n",
      "Deleted video: /home/jovyan/videos/output195.mp4\n"
     ]
    },
    {
     "name": "stderr",
     "output_type": "stream",
     "text": [
      "[mov,mp4,m4a,3gp,3g2,mj2 @ 0x7f5a78014f40] moov atom not found\n"
     ]
    },
    {
     "name": "stdout",
     "output_type": "stream",
     "text": [
      "Processing new video: /home/jovyan/videos/output196.mp4\n",
      "Deleted video: /home/jovyan/videos/output196.mp4\n"
     ]
    },
    {
     "name": "stderr",
     "output_type": "stream",
     "text": [
      "[mov,mp4,m4a,3gp,3g2,mj2 @ 0x7f5a78015480] moov atom not found\n"
     ]
    },
    {
     "name": "stdout",
     "output_type": "stream",
     "text": [
      "Processing new video: /home/jovyan/videos/output197.mp4\n",
      "Deleted video: /home/jovyan/videos/output197.mp4\n"
     ]
    },
    {
     "name": "stderr",
     "output_type": "stream",
     "text": [
      "[mov,mp4,m4a,3gp,3g2,mj2 @ 0x7f5a78014ec0] moov atom not found\n"
     ]
    },
    {
     "name": "stdout",
     "output_type": "stream",
     "text": [
      "Processing new video: /home/jovyan/videos/output198.mp4\n",
      "Deleted video: /home/jovyan/videos/output198.mp4\n"
     ]
    },
    {
     "name": "stderr",
     "output_type": "stream",
     "text": [
      "[mov,mp4,m4a,3gp,3g2,mj2 @ 0x7f5a78015740] moov atom not found\n"
     ]
    },
    {
     "name": "stdout",
     "output_type": "stream",
     "text": [
      "Producer stopped.\n"
     ]
    }
   ],
   "source": [
    "def main():\n",
    "    producer = KafkaProducer(bootstrap_servers='localhost:9092')\n",
    "    topic = 'frame_topic'\n",
    "    path_to_watch = '/home/jovyan/videos/'  # Directory to monitor\n",
    "\n",
    "    event_handler = VideoFileHandler(producer, topic)\n",
    "    observer = Observer()\n",
    "    observer.schedule(event_handler, path=path_to_watch, recursive=False)\n",
    "    observer.start()\n",
    "\n",
    "    print(\"Producer running. Message being sent to Kafka Consumer. Press Ctrl+C to stop.\")\n",
    "    try:\n",
    "        while True:\n",
    "            pass\n",
    "    except KeyboardInterrupt:\n",
    "        observer.stop()\n",
    "        observer.join()\n",
    "        print(\"Producer stopped.\")\n",
    "\n",
    "if __name__ == \"__main__\":\n",
    "    main()"
   ]
  },
  {
   "cell_type": "code",
   "execution_count": null,
   "id": "802cd7e3-3c19-4249-96b1-de6e52318de7",
   "metadata": {},
   "outputs": [],
   "source": []
  }
 ],
 "metadata": {
  "kernelspec": {
   "display_name": "Python [conda env:bigdata]",
   "language": "python",
   "name": "conda-env-bigdata-py"
  },
  "language_info": {
   "codemirror_mode": {
    "name": "ipython",
    "version": 3
   },
   "file_extension": ".py",
   "mimetype": "text/x-python",
   "name": "python",
   "nbconvert_exporter": "python",
   "pygments_lexer": "ipython3",
   "version": "3.10.13"
  }
 },
 "nbformat": 4,
 "nbformat_minor": 5
}
